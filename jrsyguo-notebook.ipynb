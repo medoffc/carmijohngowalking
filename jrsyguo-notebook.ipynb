{
 "cells": [
  {
   "cell_type": "markdown",
   "metadata": {},
   "source": [
    "# Carmi and John Go for a Walk\n",
    "\n",
    "*An exploration of movie data using SQL*"
   ]
  },
  {
   "cell_type": "markdown",
   "metadata": {},
   "source": [
    "We begin by importing all the requisite libraries and setting up the MySQL connection."
   ]
  },
  {
   "cell_type": "code",
   "execution_count": 1,
   "metadata": {},
   "outputs": [],
   "source": [
    "import numpy as np\n",
    "import pandas as pd\n",
    "import matplotlib.pyplot as plt\n",
    "import seaborn as sns\n",
    "import mysql.connector\n",
    "%matplotlib inline\n",
    "\n",
    "conn = mysql.connector.connect(user='hbs-student', password='super-secure-password?',\n",
    "                              host='hbs-ds-060120.c1doesqrid0e.us-east-1.rds.amazonaws.com',\n",
    "                              database='movies')"
   ]
  },
  {
   "cell_type": "markdown",
   "metadata": {},
   "source": [
    "## Release Month\n",
    "\n",
    "*What is the impact of release month on box office sales?*\n",
    "\n",
    "Which release month makes the most at the box office?"
   ]
  },
  {
   "cell_type": "code",
   "execution_count": 4,
   "metadata": {},
   "outputs": [
    {
     "data": {
      "text/plain": [
       "Text(0, 0.5, 'Worldwide Gross')"
      ]
     },
     "execution_count": 4,
     "metadata": {},
     "output_type": "execute_result"
    },
    {
     "data": {
      "image/png": "[encoded data removed]",
      "text/plain": [
       "<Figure size 432x288 with 1 Axes>"
      ]
     },
     "metadata": {
      "needs_background": "light"
     },
     "output_type": "display_data"
    }
   ],
   "source": [
    "df = pd.read_sql_query('''\n",
    "    SELECT SUBSTRING(release_date, 1, 4) AS release_month,\n",
    "           count(id) AS movies_released,\n",
    "           CAST(REPLACE(REPLACE(production_budget, '$', ''), ',' ,'') AS UNSIGNED) AS productionBudget, \n",
    "           CAST(REPLACE(REPLACE(worldwide_gross, '$', ''), ',' ,'') AS UNSIGNED) AS worldwideGross,\n",
    "           CAST(REPLACE(REPLACE(domestic_gross, '$', ''), ',' ,'') AS UNSIGNED) AS domesticGross,\n",
    "           CAST(REPLACE(REPLACE(worldwide_gross, '$', ''), ',' ,'') AS UNSIGNED) - CAST(REPLACE(REPLACE(domestic_gross, '$', ''), ',' ,'') AS UNSIGNED) AS internationalGross,\n",
    "           CAST(REPLACE(REPLACE(worldwide_gross, '$', ''), ',' ,'') AS UNSIGNED) / count(id) AS gross_per_movie\n",
    "           -- CAST(REPLACE(REPLACE(worldwide_gross, '$', ''), ',' ,'') AS UNSIGNED) - CAST(REPLACE(REPLACE(production_budget, '$', ''), ',' ,'') AS UNSIGNED) AS profit\n",
    "    FROM tn_movie_budgets\n",
    "    GROUP BY release_month\n",
    "    ORDER BY worldwideGross DESC\n",
    "''', conn)\n",
    "\n",
    "sns.barplot(x=df['release_month'], y=df['worldwideGross'])\n",
    "plt.title(\"Worldwide Gross by Month\")\n",
    "plt.xlabel(\"Month\")\n",
    "plt.ylabel(\"Worldwide Gross\")"
   ]
  },
  {
   "cell_type": "markdown",
   "metadata": {},
   "source": [
    "December-released movies make the most money by far, followed by April and then February. This makes sense given the winter holiday season in December, the spring holiday season in April, and Valentine's Day in February.\n",
    "\n",
    "Does the answer change if we examine box office results on a per-movie basis?"
   ]
  },
  {
   "cell_type": "code",
   "execution_count": 5,
   "metadata": {},
   "outputs": [
    {
     "data": {
      "text/plain": [
       "Text(0, 0.5, 'Worldwide Gross per Movie')"
      ]
     },
     "execution_count": 5,
     "metadata": {},
     "output_type": "execute_result"
    },
    {
     "data": {
      "image/png": "[encoded data removed]",
      "text/plain": [
       "<Figure size 432x288 with 1 Axes>"
      ]
     },
     "metadata": {
      "needs_background": "light"
     },
     "output_type": "display_data"
    }
   ],
   "source": [
    "df = pd.read_sql_query('''\n",
    "    SELECT SUBSTRING(release_date, 1, 4) AS release_month,\n",
    "           count(id) AS movies_released,\n",
    "           CAST(REPLACE(REPLACE(production_budget, '$', ''), ',' ,'') AS UNSIGNED) AS productionBudget, \n",
    "           CAST(REPLACE(REPLACE(worldwide_gross, '$', ''), ',' ,'') AS UNSIGNED) AS worldwideGross,\n",
    "           CAST(REPLACE(REPLACE(domestic_gross, '$', ''), ',' ,'') AS UNSIGNED) AS domesticGross,\n",
    "           CAST(REPLACE(REPLACE(worldwide_gross, '$', ''), ',' ,'') AS UNSIGNED) - CAST(REPLACE(REPLACE(domestic_gross, '$', ''), ',' ,'') AS UNSIGNED) AS internationalGross,\n",
    "           CAST(REPLACE(REPLACE(worldwide_gross, '$', ''), ',' ,'') AS UNSIGNED) / count(id) AS gross_per_movie\n",
    "           -- CAST(REPLACE(REPLACE(worldwide_gross, '$', ''), ',' ,'') AS UNSIGNED) - CAST(REPLACE(REPLACE(production_budget, '$', ''), ',' ,'') AS UNSIGNED) AS profit\n",
    "    FROM tn_movie_budgets\n",
    "    GROUP BY release_month\n",
    "    ORDER BY gross_per_movie DESC\n",
    "''', conn)\n",
    "\n",
    "sns.barplot(x=df['release_month'], y=df['gross_per_movie'])\n",
    "plt.title(\"Worldwide Gross per Movie by Month\")\n",
    "plt.xlabel(\"Month\")\n",
    "plt.ylabel(\"Worldwide Gross per Movie\")"
   ]
  },
  {
   "cell_type": "markdown",
   "metadata": {},
   "source": [
    "In fact, April, December, and February retain their top spots as having the highest grossing movies on a per-movie basis."
   ]
  },
  {
   "cell_type": "code",
   "execution_count": null,
   "metadata": {},
   "outputs": [],
   "source": []
  }
 ],
 "metadata": {
  "kernelspec": {
   "display_name": "Python 3",
   "language": "python",
   "name": "python3"
  },
  "language_info": {
   "codemirror_mode": {
    "name": "ipython",
    "version": 3
   },
   "file_extension": ".py",
   "mimetype": "text/x-python",
   "name": "python",
   "nbconvert_exporter": "python",
   "pygments_lexer": "ipython3",
   "version": "3.7.6"
  }
 },
 "nbformat": 4,
 "nbformat_minor": 4
}
